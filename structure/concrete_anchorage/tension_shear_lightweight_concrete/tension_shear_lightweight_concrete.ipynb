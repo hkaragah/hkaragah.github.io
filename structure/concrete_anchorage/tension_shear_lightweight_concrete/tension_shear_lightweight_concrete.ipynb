{
 "cells": [
  {
   "cell_type": "markdown",
   "id": "d6c4f00a",
   "metadata": {},
   "source": [
    "# Concrete Anchorage Evaluation: Combined Tension and Shear"
   ]
  },
  {
   "cell_type": "code",
   "execution_count": null,
   "id": "6c93d9a3",
   "metadata": {},
   "outputs": [],
   "source": [
    "import os\n",
    "import sys\n",
    "sys.path.append(os.path.abspath(\"../../..\"))\n",
    "from assets.modules.materials import Concrete, ACIConcrete, BilinearSteel\n",
    "from assets.modules.steel import LongitudinalRebar, TransverseRebar\n",
    "from assets.modules.shapes import *\n",
    "import assets.modules.concrete as concrete\n",
    "import matplotlib.pyplot as plt\n",
    "import matplotlib.axes as axes"
   ]
  },
  {
   "cell_type": "code",
   "execution_count": 2,
   "id": "040afb7f",
   "metadata": {},
   "outputs": [],
   "source": [
    "# Define material properties\n",
    "C3 = ACIConcrete(fc=4000, is_lightweight=True)"
   ]
  },
  {
   "cell_type": "code",
   "execution_count": null,
   "id": "b5ea5cc3",
   "metadata": {},
   "outputs": [],
   "source": []
  }
 ],
 "metadata": {
  "kernelspec": {
   "display_name": "ml",
   "language": "python",
   "name": "python3"
  },
  "language_info": {
   "codemirror_mode": {
    "name": "ipython",
    "version": 3
   },
   "file_extension": ".py",
   "mimetype": "text/x-python",
   "name": "python",
   "nbconvert_exporter": "python",
   "pygments_lexer": "ipython3",
   "version": "3.12.7"
  }
 },
 "nbformat": 4,
 "nbformat_minor": 5
}
