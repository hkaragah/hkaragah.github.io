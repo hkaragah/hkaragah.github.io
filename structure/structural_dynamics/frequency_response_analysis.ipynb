{
 "cells": [
  {
   "cell_type": "markdown",
   "id": "59bd9713",
   "metadata": {},
   "source": [
    "<div style=\"text-align: right;\">\n",
    "<a target=\"_blank\" href=\"https://colab.research.google.com/github/hkaragah/hkaragah.github.io/blob/main/structure/structural_dynamics/frequency_response_analysis.ipynb\">\n",
    "  <img src=\"https://colab.research.google.com/assets/colab-badge.svg\" alt=\"Open In Colab\"/>\n",
    "</a>\n",
    "</div>"
   ]
  },
  {
   "cell_type": "markdown",
   "id": "82d7d189",
   "metadata": {},
   "source": [
    "# Frequency Response Analysis of 3-DOF System"
   ]
  },
  {
   "cell_type": "markdown",
   "id": "7c9a7146",
   "metadata": {},
   "source": [
    "This notebook evaluates the steady-state response of the 3-DOF structural system under harmonic external forcing using frequency response functions."
   ]
  },
  {
   "cell_type": "code",
   "execution_count": null,
   "id": "beb64f12",
   "metadata": {},
   "outputs": [],
   "source": [
    "import numpy as np\n",
    "import matplotlib.pyplot as plt\n",
    "from scipy.linalg import inv\n",
    "from numpy import pi"
   ]
  },
  {
   "cell_type": "markdown",
   "id": "95949600",
   "metadata": {},
   "source": [
    "## Define System Matrices (Same as Before)"
   ]
  },
  {
   "cell_type": "code",
   "execution_count": null,
   "id": "310b6228",
   "metadata": {},
   "outputs": [],
   "source": [
    "m1, m2, m3 = 2.0, 1.5, 1.0\n",
    "k1, k2, k3 = 400.0, 300.0, 200.0\n",
    "c1, c2, c3 = 5.0, 4.0, 3.0\n",
    "\n",
    "M = np.diag([m1, m2, m3])\n",
    "K = np.array([[k1 + k2, -k2, 0],\n",
    "              [-k2, k2 + k3, -k3],\n",
    "              [0, -k3, k3]])\n",
    "C = np.array([[c1 + c2, -c2, 0],\n",
    "              [-c2, c2 + c3, -c3],\n",
    "              [0, -c3, c3]])"
   ]
  },
  {
   "cell_type": "markdown",
   "id": "a38f72c0",
   "metadata": {},
   "source": [
    "## Define Frequency Range and External Forcing"
   ]
  },
  {
   "cell_type": "code",
   "execution_count": null,
   "id": "d2f30065",
   "metadata": {},
   "outputs": [],
   "source": [
    "omega = np.linspace(0.1, 50, 1000)  # rad/s\n",
    "F = np.array([1.0, 0.0, 0.0])  # harmonic forcing at DOF 1\n",
    "\n",
    "X_mag = []\n",
    "for w in omega:\n",
    "    H = -w**2 * M + 1j * w * C + K\n",
    "    x = np.linalg.solve(H, F)\n",
    "    X_mag.append(np.abs(x))\n",
    "\n",
    "X_mag = np.array(X_mag)"
   ]
  },
  {
   "cell_type": "markdown",
   "id": "50b43097",
   "metadata": {},
   "source": [
    "## Plot Frequency Response"
   ]
  },
  {
   "cell_type": "code",
   "execution_count": null,
   "id": "b9de2ba2",
   "metadata": {},
   "outputs": [],
   "source": [
    "plt.figure(figsize=(10, 6))\n",
    "for i in range(3):\n",
    "    plt.plot(omega / (2 * pi), X_mag[:, i], label=f'DOF {i+1}')\n",
    "plt.xlabel(\"Frequency (Hz)\")\n",
    "plt.ylabel(\"Amplitude (in)\")\n",
    "plt.title(\"Frequency Response Function\")\n",
    "plt.grid(True)\n",
    "plt.legend()\n",
    "plt.show()"
   ]
  }
 ],
 "metadata": {
  "language_info": {
   "name": "python"
  }
 },
 "nbformat": 4,
 "nbformat_minor": 5
}
