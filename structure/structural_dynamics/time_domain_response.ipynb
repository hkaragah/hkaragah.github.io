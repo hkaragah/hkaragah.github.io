{
 "cells": [
  {
   "cell_type": "markdown",
   "id": "874b0aba",
   "metadata": {},
   "source": [
    "<div style=\"text-align: right;\">\n",
    "<a target=\"_blank\" href=\"https://colab.research.google.com/github/hkaragah/hkaragah.github.io/blob/main/structure/structural_dynamics/time_domain_response.ipynb\">\n",
    "  <img src=\"https://colab.research.google.com/assets/colab-badge.svg\" alt=\"Open In Colab\"/>\n",
    "</a>\n",
    "</div>"
   ]
  },
  {
   "cell_type": "markdown",
   "id": "ae75f425",
   "metadata": {},
   "source": [
    "# Time-Domain Response to External Forces"
   ]
  },
  {
   "cell_type": "markdown",
   "id": "158364e6",
   "metadata": {},
   "source": [
    "This notebook evaluates the time history response of the 3-DOF structural system subjected to general external forces using numerical integration."
   ]
  },
  {
   "cell_type": "code",
   "execution_count": null,
   "id": "e9795f5f",
   "metadata": {},
   "outputs": [],
   "source": [
    "import numpy as np\n",
    "import matplotlib.pyplot as plt\n",
    "from scipy.integrate import solve_ivp"
   ]
  },
  {
   "cell_type": "markdown",
   "id": "640ffbbd",
   "metadata": {},
   "source": [
    "## Define System Matrices"
   ]
  },
  {
   "cell_type": "code",
   "execution_count": null,
   "id": "99531047",
   "metadata": {},
   "outputs": [],
   "source": [
    "m1, m2, m3 = 2.0, 1.5, 1.0\n",
    "k1, k2, k3 = 400.0, 300.0, 200.0\n",
    "c1, c2, c3 = 5.0, 4.0, 3.0\n",
    "\n",
    "M = np.diag([m1, m2, m3])\n",
    "K = np.array([[k1 + k2, -k2, 0],\n",
    "              [-k2, k2 + k3, -k3],\n",
    "              [0, -k3, k3]])\n",
    "C = np.array([[c1 + c2, -c2, 0],\n",
    "              [-c2, c2 + c3, -c3],\n",
    "              [0, -c3, c3]])\n",
    "Minv = np.linalg.inv(M)"
   ]
  },
  {
   "cell_type": "markdown",
   "id": "04925172",
   "metadata": {},
   "source": [
    "## Define External Force Function and ODE System"
   ]
  },
  {
   "cell_type": "code",
   "execution_count": null,
   "id": "c8ba05c1",
   "metadata": {},
   "outputs": [],
   "source": [
    "def external_force(t):\n",
    "    return np.array([10 * np.sin(2 * np.pi * 2 * t), 0, 0])\n",
    "\n",
    "def system(t, y):\n",
    "    u = y[:3]\n",
    "    v = y[3:]\n",
    "    f = external_force(t)\n",
    "    a = Minv @ (f - C @ v - K @ u)\n",
    "    return np.concatenate((v, a))"
   ]
  },
  {
   "cell_type": "markdown",
   "id": "94bbc7f3",
   "metadata": {},
   "source": [
    "## Initial Conditions and Time Integration"
   ]
  },
  {
   "cell_type": "code",
   "execution_count": null,
   "id": "0e551ad1",
   "metadata": {},
   "outputs": [],
   "source": [
    "y0 = np.zeros(6)  # Initial displacement and velocity\n",
    "sol = solve_ivp(system, [0, 10], y0, t_eval=np.linspace(0, 10, 1000))\n",
    "\n",
    "t = sol.t\n",
    "u = sol.y[:3, :]\n",
    "\n",
    "plt.figure(figsize=(10, 6))\n",
    "for i in range(3):\n",
    "    plt.plot(t, u[i], label=f'DOF {i+1}')\n",
    "plt.title(\"Displacement Time Histories\")\n",
    "plt.xlabel(\"Time (s)\")\n",
    "plt.ylabel(\"Displacement (in)\")\n",
    "plt.grid(True)\n",
    "plt.legend()\n",
    "plt.show()"
   ]
  }
 ],
 "metadata": {
  "language_info": {
   "name": "python"
  }
 },
 "nbformat": 4,
 "nbformat_minor": 5
}
