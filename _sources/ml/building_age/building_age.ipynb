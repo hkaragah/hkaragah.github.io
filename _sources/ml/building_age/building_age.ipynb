{
 "cells": [
  {
   "cell_type": "markdown",
   "id": "a63a7a30",
   "metadata": {},
   "source": [
    "<div style=\"text-align: right;\">\n",
    "<a target=\"_blank\" href=\"https://colab.research.google.com/github/hkaragah/hkaragah.github.io/blob/main/structure/p_delta/cant_col_p_delta.ipynb\">\n",
    "  <img src=\"https://colab.research.google.com/assets/colab-badge.svg\" alt=\"Open In Colab\"/>\n",
    "</a>\n",
    "</div>"
   ]
  },
  {
   "cell_type": "markdown",
   "id": "c1d49170",
   "metadata": {},
   "source": [
    "# Building Age and ASCE 41 Hazard Levels"
   ]
  },
  {
   "cell_type": "code",
   "execution_count": 1,
   "id": "a3f46942",
   "metadata": {},
   "outputs": [],
   "source": [
    "import numpy as np\n",
    "import matplotlib.pyplot as plt\n",
    "import pandas as pd\n",
    "\n",
    "import os\n",
    "import sys\n"
   ]
  },
  {
   "cell_type": "code",
   "execution_count": 3,
   "id": "f693419d",
   "metadata": {},
   "outputs": [],
   "source": [
    "path = os.path.join('..', '..', 'assets', 'data', 'ml', 'building_age', 'ca_hospital_building_data.csv')\n",
    "df1 = pd.read_csv(path)"
   ]
  },
  {
   "cell_type": "code",
   "execution_count": 11,
   "id": "c7c0a879",
   "metadata": {},
   "outputs": [
    {
     "data": {
      "text/html": [
       "<div>\n",
       "<style scoped>\n",
       "    .dataframe tbody tr th:only-of-type {\n",
       "        vertical-align: middle;\n",
       "    }\n",
       "\n",
       "    .dataframe tbody tr th {\n",
       "        vertical-align: top;\n",
       "    }\n",
       "\n",
       "    .dataframe thead th {\n",
       "        text-align: right;\n",
       "    }\n",
       "</style>\n",
       "<table border=\"1\" class=\"dataframe\">\n",
       "  <thead>\n",
       "    <tr style=\"text-align: right;\">\n",
       "      <th></th>\n",
       "      <th>_id</th>\n",
       "      <th>County Code</th>\n",
       "      <th>Perm ID</th>\n",
       "      <th>Facility Name</th>\n",
       "      <th>City</th>\n",
       "      <th>Building Nbr</th>\n",
       "      <th>Building Name</th>\n",
       "      <th>Building Status</th>\n",
       "      <th>SPC Rating *</th>\n",
       "      <th>Building URL</th>\n",
       "      <th>Height (ft)</th>\n",
       "      <th>Stories</th>\n",
       "      <th>Building Code</th>\n",
       "      <th>Building Code Year</th>\n",
       "      <th>Year Completed</th>\n",
       "      <th>AB 1882 Notice</th>\n",
       "      <th>Latitude</th>\n",
       "      <th>Longitude</th>\n",
       "      <th>Count</th>\n",
       "    </tr>\n",
       "  </thead>\n",
       "  <tbody>\n",
       "    <tr>\n",
       "      <th>0</th>\n",
       "      <td>1</td>\n",
       "      <td>01 - Alameda</td>\n",
       "      <td>11210</td>\n",
       "      <td>Alameda Hospital</td>\n",
       "      <td>Alameda</td>\n",
       "      <td>BLD-01278</td>\n",
       "      <td>Original Hospital</td>\n",
       "      <td>OSHPD 1R-No Gen Acute Care - OSHPD Bldg</td>\n",
       "      <td>NaN</td>\n",
       "      <td>https://esp.oshpd.ca.gov/CitizenAccess/Cap/Cap...</td>\n",
       "      <td>44.17</td>\n",
       "      <td>4.0</td>\n",
       "      <td>Unknown</td>\n",
       "      <td>NaN</td>\n",
       "      <td>1926.0</td>\n",
       "      <td>NaN</td>\n",
       "      <td>37.762657</td>\n",
       "      <td>-122.253899</td>\n",
       "      <td>1</td>\n",
       "    </tr>\n",
       "    <tr>\n",
       "      <th>1</th>\n",
       "      <td>2</td>\n",
       "      <td>01 - Alameda</td>\n",
       "      <td>11210</td>\n",
       "      <td>Alameda Hospital</td>\n",
       "      <td>Alameda</td>\n",
       "      <td>BLD-01279</td>\n",
       "      <td>Stephens Wing</td>\n",
       "      <td>OSHPD 1-In Service</td>\n",
       "      <td>2</td>\n",
       "      <td>https://esp.oshpd.ca.gov/CitizenAccess/Cap/Cap...</td>\n",
       "      <td>35.00</td>\n",
       "      <td>3.0</td>\n",
       "      <td>1952 Uniform Building Code (UBC)</td>\n",
       "      <td>1952.0</td>\n",
       "      <td>1956.0</td>\n",
       "      <td>This building does not significantly jeopardiz...</td>\n",
       "      <td>37.762657</td>\n",
       "      <td>-122.253899</td>\n",
       "      <td>1</td>\n",
       "    </tr>\n",
       "    <tr>\n",
       "      <th>2</th>\n",
       "      <td>3</td>\n",
       "      <td>01 - Alameda</td>\n",
       "      <td>11210</td>\n",
       "      <td>Alameda Hospital</td>\n",
       "      <td>Alameda</td>\n",
       "      <td>BLD-01280</td>\n",
       "      <td>West Wing</td>\n",
       "      <td>OSHPD 1-In Service</td>\n",
       "      <td>2</td>\n",
       "      <td>https://esp.oshpd.ca.gov/CitizenAccess/Cap/Cap...</td>\n",
       "      <td>NaN</td>\n",
       "      <td>2.0</td>\n",
       "      <td>1964 Uniform Building Code (UBC)</td>\n",
       "      <td>1964.0</td>\n",
       "      <td>1968.0</td>\n",
       "      <td>This building does not significantly jeopardiz...</td>\n",
       "      <td>37.762657</td>\n",
       "      <td>-122.253899</td>\n",
       "      <td>1</td>\n",
       "    </tr>\n",
       "    <tr>\n",
       "      <th>3</th>\n",
       "      <td>4</td>\n",
       "      <td>01 - Alameda</td>\n",
       "      <td>11210</td>\n",
       "      <td>Alameda Hospital</td>\n",
       "      <td>Alameda</td>\n",
       "      <td>BLD-01281</td>\n",
       "      <td>South Wing</td>\n",
       "      <td>OSHPD 1-In Service</td>\n",
       "      <td>3s</td>\n",
       "      <td>https://esp.oshpd.ca.gov/CitizenAccess/Cap/Cap...</td>\n",
       "      <td>NaN</td>\n",
       "      <td>3.0</td>\n",
       "      <td>1976 California Building Code (CBC)</td>\n",
       "      <td>1976.0</td>\n",
       "      <td>1983.0</td>\n",
       "      <td>NaN</td>\n",
       "      <td>37.762657</td>\n",
       "      <td>-122.253899</td>\n",
       "      <td>1</td>\n",
       "    </tr>\n",
       "    <tr>\n",
       "      <th>4</th>\n",
       "      <td>5</td>\n",
       "      <td>01 - Alameda</td>\n",
       "      <td>11210</td>\n",
       "      <td>Alameda Hospital</td>\n",
       "      <td>Alameda</td>\n",
       "      <td>BLD-01282</td>\n",
       "      <td>Radiology Addition</td>\n",
       "      <td>OSHPD 1-In Service</td>\n",
       "      <td>4</td>\n",
       "      <td>https://esp.oshpd.ca.gov/CitizenAccess/Cap/Cap...</td>\n",
       "      <td>27.00</td>\n",
       "      <td>2.0</td>\n",
       "      <td>1985 California Building Code (CBC)</td>\n",
       "      <td>1985.0</td>\n",
       "      <td>1995.0</td>\n",
       "      <td>NaN</td>\n",
       "      <td>37.762657</td>\n",
       "      <td>-122.253899</td>\n",
       "      <td>1</td>\n",
       "    </tr>\n",
       "  </tbody>\n",
       "</table>\n",
       "</div>"
      ],
      "text/plain": [
       "   _id   County Code  Perm ID     Facility Name     City Building Nbr  \\\n",
       "0    1  01 - Alameda    11210  Alameda Hospital  Alameda    BLD-01278   \n",
       "1    2  01 - Alameda    11210  Alameda Hospital  Alameda    BLD-01279   \n",
       "2    3  01 - Alameda    11210  Alameda Hospital  Alameda    BLD-01280   \n",
       "3    4  01 - Alameda    11210  Alameda Hospital  Alameda    BLD-01281   \n",
       "4    5  01 - Alameda    11210  Alameda Hospital  Alameda    BLD-01282   \n",
       "\n",
       "        Building Name                          Building Status SPC Rating *  \\\n",
       "0   Original Hospital  OSHPD 1R-No Gen Acute Care - OSHPD Bldg          NaN   \n",
       "1       Stephens Wing                       OSHPD 1-In Service            2   \n",
       "2           West Wing                       OSHPD 1-In Service            2   \n",
       "3          South Wing                       OSHPD 1-In Service           3s   \n",
       "4  Radiology Addition                       OSHPD 1-In Service            4   \n",
       "\n",
       "                                        Building URL  Height (ft)  Stories  \\\n",
       "0  https://esp.oshpd.ca.gov/CitizenAccess/Cap/Cap...        44.17      4.0   \n",
       "1  https://esp.oshpd.ca.gov/CitizenAccess/Cap/Cap...        35.00      3.0   \n",
       "2  https://esp.oshpd.ca.gov/CitizenAccess/Cap/Cap...          NaN      2.0   \n",
       "3  https://esp.oshpd.ca.gov/CitizenAccess/Cap/Cap...          NaN      3.0   \n",
       "4  https://esp.oshpd.ca.gov/CitizenAccess/Cap/Cap...        27.00      2.0   \n",
       "\n",
       "                         Building Code  Building Code Year  Year Completed  \\\n",
       "0                              Unknown                 NaN          1926.0   \n",
       "1     1952 Uniform Building Code (UBC)              1952.0          1956.0   \n",
       "2     1964 Uniform Building Code (UBC)              1964.0          1968.0   \n",
       "3  1976 California Building Code (CBC)              1976.0          1983.0   \n",
       "4  1985 California Building Code (CBC)              1985.0          1995.0   \n",
       "\n",
       "                                      AB 1882 Notice   Latitude   Longitude  \\\n",
       "0                                                NaN  37.762657 -122.253899   \n",
       "1  This building does not significantly jeopardiz...  37.762657 -122.253899   \n",
       "2  This building does not significantly jeopardiz...  37.762657 -122.253899   \n",
       "3                                                NaN  37.762657 -122.253899   \n",
       "4                                                NaN  37.762657 -122.253899   \n",
       "\n",
       "   Count  \n",
       "0      1  \n",
       "1      1  \n",
       "2      1  \n",
       "3      1  \n",
       "4      1  "
      ]
     },
     "execution_count": 11,
     "metadata": {},
     "output_type": "execute_result"
    }
   ],
   "source": [
    "df1.head()"
   ]
  },
  {
   "cell_type": "code",
   "execution_count": 13,
   "id": "c1c8c1b2",
   "metadata": {},
   "outputs": [
    {
     "data": {
      "text/plain": [
       "371"
      ]
     },
     "execution_count": 13,
     "metadata": {},
     "output_type": "execute_result"
    }
   ],
   "source": [
    "df1['Year Completed'].isna().sum()"
   ]
  },
  {
   "cell_type": "code",
   "execution_count": 15,
   "id": "27f9dfce",
   "metadata": {},
   "outputs": [
    {
     "data": {
      "text/plain": [
       "array([[<Axes: title={'center': 'Year Completed'}>]], dtype=object)"
      ]
     },
     "execution_count": 15,
     "metadata": {},
     "output_type": "execute_result"
    },
    {
     "data": {
      "image/png": "[encoded data removed]",
      "text/plain": [
       "<Figure size 640x480 with 1 Axes>"
      ]
     },
     "metadata": {},
     "output_type": "display_data"
    }
   ],
   "source": [
    "df1[~df1['Year Completed'].isna()].hist('Year Completed', bins=20)\n"
   ]
  },
  {
   "cell_type": "code",
   "execution_count": 16,
   "id": "e5796b98",
   "metadata": {},
   "outputs": [
    {
     "data": {
      "text/plain": [
       "<Axes: >"
      ]
     },
     "execution_count": 16,
     "metadata": {},
     "output_type": "execute_result"
    },
    {
     "data": {
      "image/png": "[encoded data removed]",
      "text/plain": [
       "<Figure size 640x480 with 1 Axes>"
      ]
     },
     "metadata": {},
     "output_type": "display_data"
    }
   ],
   "source": [
    "df1['Year Completed'].hist(bins=20)"
   ]
  },
  {
   "cell_type": "markdown",
   "id": "19d5c6c0",
   "metadata": {},
   "source": [
    "## References\n",
    "* <a href=\"https://data.chhs.ca.gov/dataset/hospital-building-data/resource/d97adf28-ebaf-4204-a29e-bb6bdb7f96b9\">Hospital Building Data</a>\n",
    "* <a href=\"https://cityhubla.github.io/LA_Building_Age/#12/34.0100/-118.2949\">build: LA</a>\n"
   ]
  },
  {
   "cell_type": "code",
   "execution_count": null,
   "id": "dadf6096",
   "metadata": {},
   "outputs": [],
   "source": []
  }
 ],
 "metadata": {
  "kernelspec": {
   "display_name": "ml",
   "language": "python",
   "name": "python3"
  },
  "language_info": {
   "codemirror_mode": {
    "name": "ipython",
    "version": 3
   },
   "file_extension": ".py",
   "mimetype": "text/x-python",
   "name": "python",
   "nbconvert_exporter": "python",
   "pygments_lexer": "ipython3",
   "version": "3.12.7"
  }
 },
 "nbformat": 4,
 "nbformat_minor": 5
}
